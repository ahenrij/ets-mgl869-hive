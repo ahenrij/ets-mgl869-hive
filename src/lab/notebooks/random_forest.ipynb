{
 "cells": [
  {
   "cell_type": "markdown",
   "metadata": {},
   "source": [
    "# Setup"
   ]
  },
  {
   "cell_type": "markdown",
   "metadata": {},
   "source": [
    "In this notebook we create a RandomForest bug prediction model based on the preprocessed data."
   ]
  },
  {
   "cell_type": "code",
   "execution_count": null,
   "metadata": {},
   "outputs": [],
   "source": []
  }
 ],
 "metadata": {
  "kernelspec": {
   "display_name": "Python 3.10.4 ('lab-jFE6EB9F-py3.10')",
   "language": "python",
   "name": "python3"
  },
  "language_info": {
   "name": "python",
   "version": "3.10.4"
  },
  "orig_nbformat": 4,
  "vscode": {
   "interpreter": {
    "hash": "c1359abf3155d6e10783b7c6bc5c5f02995ef9432b18bfb569b7bfcad1fd7f5e"
   }
  }
 },
 "nbformat": 4,
 "nbformat_minor": 2
}
