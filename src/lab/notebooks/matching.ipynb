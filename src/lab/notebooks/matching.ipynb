{
 "cells": [
  {
   "cell_type": "markdown",
   "metadata": {},
   "source": [
    "# Matching Hive bugs with files\n",
    "\n",
    "Author: Henri A."
   ]
  },
  {
   "cell_type": "markdown",
   "metadata": {},
   "source": [
    "## Setup"
   ]
  },
  {
   "cell_type": "code",
   "execution_count": 1,
   "metadata": {},
   "outputs": [],
   "source": [
    "# imports\n",
    "import pandas as pd"
   ]
  },
  {
   "cell_type": "markdown",
   "metadata": {},
   "source": [
    "## Data load"
   ]
  },
  {
   "cell_type": "code",
   "execution_count": 4,
   "metadata": {},
   "outputs": [
    {
     "data": {
      "text/html": [
       "<div>\n",
       "<style scoped>\n",
       "    .dataframe tbody tr th:only-of-type {\n",
       "        vertical-align: middle;\n",
       "    }\n",
       "\n",
       "    .dataframe tbody tr th {\n",
       "        vertical-align: top;\n",
       "    }\n",
       "\n",
       "    .dataframe thead th {\n",
       "        text-align: right;\n",
       "    }\n",
       "</style>\n",
       "<table border=\"1\" class=\"dataframe\">\n",
       "  <thead>\n",
       "    <tr style=\"text-align: right;\">\n",
       "      <th></th>\n",
       "      <th>Issue Type</th>\n",
       "      <th>Issue key</th>\n",
       "      <th>Issue id</th>\n",
       "      <th>Summary</th>\n",
       "      <th>Assignee</th>\n",
       "      <th>Reporter</th>\n",
       "      <th>Priority</th>\n",
       "      <th>Status</th>\n",
       "      <th>Resolution</th>\n",
       "      <th>Created</th>\n",
       "      <th>Updated</th>\n",
       "      <th>Due Date</th>\n",
       "    </tr>\n",
       "  </thead>\n",
       "  <tbody>\n",
       "    <tr>\n",
       "      <th>0</th>\n",
       "      <td>Bug</td>\n",
       "      <td>HIVE-4413</td>\n",
       "      <td>12644338</td>\n",
       "      <td>Parse Exception : character '@' not supported ...</td>\n",
       "      <td>bolke</td>\n",
       "      <td>navmad</td>\n",
       "      <td>Major</td>\n",
       "      <td>Resolved</td>\n",
       "      <td>Not A Problem</td>\n",
       "      <td>24/Apr/13 11:43</td>\n",
       "      <td>18/Feb/16 14:18</td>\n",
       "      <td>NaN</td>\n",
       "    </tr>\n",
       "    <tr>\n",
       "      <th>1</th>\n",
       "      <td>Bug</td>\n",
       "      <td>HIVE-10233</td>\n",
       "      <td>12818760</td>\n",
       "      <td>Hive on tez: memory manager for grace hash join</td>\n",
       "      <td>hagleitn</td>\n",
       "      <td>vikram.dixit</td>\n",
       "      <td>Major</td>\n",
       "      <td>Resolved</td>\n",
       "      <td>Fixed</td>\n",
       "      <td>07/Apr/15 00:14</td>\n",
       "      <td>08/Jul/15 00:32</td>\n",
       "      <td>NaN</td>\n",
       "    </tr>\n",
       "    <tr>\n",
       "      <th>2</th>\n",
       "      <td>Bug</td>\n",
       "      <td>HIVE-11031</td>\n",
       "      <td>12838341</td>\n",
       "      <td>ORC concatenation of old files can fail while ...</td>\n",
       "      <td>prasanth_j</td>\n",
       "      <td>prasanth_j</td>\n",
       "      <td>Critical</td>\n",
       "      <td>Resolved</td>\n",
       "      <td>Fixed</td>\n",
       "      <td>17/Jun/15 00:14</td>\n",
       "      <td>26/Jun/15 19:09</td>\n",
       "      <td>NaN</td>\n",
       "    </tr>\n",
       "    <tr>\n",
       "      <th>3</th>\n",
       "      <td>Bug</td>\n",
       "      <td>HIVE-22054</td>\n",
       "      <td>13247273</td>\n",
       "      <td>Avoid recursive listing to check if a director...</td>\n",
       "      <td>prabhas</td>\n",
       "      <td>prabhas</td>\n",
       "      <td>Major</td>\n",
       "      <td>Resolved</td>\n",
       "      <td>Fixed</td>\n",
       "      <td>26/Jul/19 10:38</td>\n",
       "      <td>22/Mar/22 08:55</td>\n",
       "      <td>NaN</td>\n",
       "    </tr>\n",
       "    <tr>\n",
       "      <th>4</th>\n",
       "      <td>Bug</td>\n",
       "      <td>HIVE-16839</td>\n",
       "      <td>13077858</td>\n",
       "      <td>Unbalanced calls to openTransaction/commitTran...</td>\n",
       "      <td>yguang11</td>\n",
       "      <td>nemon</td>\n",
       "      <td>Major</td>\n",
       "      <td>Resolved</td>\n",
       "      <td>Fixed</td>\n",
       "      <td>07/Jun/17 01:55</td>\n",
       "      <td>22/Mar/22 08:59</td>\n",
       "      <td>NaN</td>\n",
       "    </tr>\n",
       "  </tbody>\n",
       "</table>\n",
       "</div>"
      ],
      "text/plain": [
       "  Issue Type   Issue key  Issue id  \\\n",
       "0        Bug   HIVE-4413  12644338   \n",
       "1        Bug  HIVE-10233  12818760   \n",
       "2        Bug  HIVE-11031  12838341   \n",
       "3        Bug  HIVE-22054  13247273   \n",
       "4        Bug  HIVE-16839  13077858   \n",
       "\n",
       "                                             Summary    Assignee  \\\n",
       "0  Parse Exception : character '@' not supported ...       bolke   \n",
       "1    Hive on tez: memory manager for grace hash join    hagleitn   \n",
       "2  ORC concatenation of old files can fail while ...  prasanth_j   \n",
       "3  Avoid recursive listing to check if a director...     prabhas   \n",
       "4  Unbalanced calls to openTransaction/commitTran...    yguang11   \n",
       "\n",
       "       Reporter  Priority    Status     Resolution          Created  \\\n",
       "0        navmad     Major  Resolved  Not A Problem  24/Apr/13 11:43   \n",
       "1  vikram.dixit     Major  Resolved          Fixed  07/Apr/15 00:14   \n",
       "2    prasanth_j  Critical  Resolved          Fixed  17/Jun/15 00:14   \n",
       "3       prabhas     Major  Resolved          Fixed  26/Jul/19 10:38   \n",
       "4         nemon     Major  Resolved          Fixed  07/Jun/17 01:55   \n",
       "\n",
       "           Updated Due Date  \n",
       "0  18/Feb/16 14:18      NaN  \n",
       "1  08/Jul/15 00:32      NaN  \n",
       "2  26/Jun/15 19:09      NaN  \n",
       "3  22/Mar/22 08:55      NaN  \n",
       "4  22/Mar/22 08:59      NaN  "
      ]
     },
     "execution_count": 4,
     "metadata": {},
     "output_type": "execute_result"
    }
   ],
   "source": [
    "bugs_commits = pd.read_csv(\"../../data/input/hive-bugs-commits.csv\")\n",
    "bugs_commits.head()"
   ]
  },
  {
   "cell_type": "code",
   "execution_count": 5,
   "metadata": {},
   "outputs": [
    {
     "data": {
      "text/plain": [
       "0"
      ]
     },
     "execution_count": 5,
     "metadata": {},
     "output_type": "execute_result"
    }
   ],
   "source": []
  },
  {
   "cell_type": "code",
   "execution_count": null,
   "metadata": {},
   "outputs": [],
   "source": []
  }
 ],
 "metadata": {
  "kernelspec": {
   "display_name": "Python 3.10.4 ('lab-jFE6EB9F-py3.10')",
   "language": "python",
   "name": "python3"
  },
  "language_info": {
   "codemirror_mode": {
    "name": "ipython",
    "version": 3
   },
   "file_extension": ".py",
   "mimetype": "text/x-python",
   "name": "python",
   "nbconvert_exporter": "python",
   "pygments_lexer": "ipython3",
   "version": "3.10.4"
  },
  "orig_nbformat": 4,
  "vscode": {
   "interpreter": {
    "hash": "c1359abf3155d6e10783b7c6bc5c5f02995ef9432b18bfb569b7bfcad1fd7f5e"
   }
  }
 },
 "nbformat": 4,
 "nbformat_minor": 2
}
