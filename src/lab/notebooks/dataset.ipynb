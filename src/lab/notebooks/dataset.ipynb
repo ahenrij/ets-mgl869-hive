{
 "cells": [
  {
   "cell_type": "markdown",
   "metadata": {},
   "source": [
    "# Setup"
   ]
  },
  {
   "cell_type": "code",
   "execution_count": 1,
   "metadata": {},
   "outputs": [],
   "source": [
    "# imports\n",
    "import pandas as pd\n",
    "import seaborn as sns"
   ]
  },
  {
   "cell_type": "code",
   "execution_count": 2,
   "metadata": {},
   "outputs": [],
   "source": [
    "# constants\n",
    "RELEASED_VERSIONS = [\"2.0.0\", \"2.0.1\",\n",
    "                     \"2.1.0\", \"2.1.1\", \"2.2.0\",\n",
    "                     \"2.3.0\", \"2.3.1\", \"2.3.2\", \"2.3.3\", \"2.3.4\", \"2.3.5\", \"2.3.6\", \"2.3.7\", \"2.3.8\", \"2.3.9\",\n",
    "                     \"3.0.0\", \"3.1.0\", \"3.1.1\", \"3.1.2\", \"3.1.3\"]\n",
    "\n",
    "INPUT_DIR = \"../../data/input/\"\n",
    "OUTPUT_DIR = \"../../data/output/\""
   ]
  },
  {
   "cell_type": "markdown",
   "metadata": {},
   "source": [
    "# Load data"
   ]
  },
  {
   "cell_type": "markdown",
   "metadata": {},
   "source": [
    "We take a look at the raw metrics data to know how to process it "
   ]
  },
  {
   "cell_type": "code",
   "execution_count": 3,
   "metadata": {},
   "outputs": [
    {
     "data": {
      "text/html": [
       "<div>\n",
       "<style scoped>\n",
       "    .dataframe tbody tr th:only-of-type {\n",
       "        vertical-align: middle;\n",
       "    }\n",
       "\n",
       "    .dataframe tbody tr th {\n",
       "        vertical-align: top;\n",
       "    }\n",
       "\n",
       "    .dataframe thead th {\n",
       "        text-align: right;\n",
       "    }\n",
       "</style>\n",
       "<table border=\"1\" class=\"dataframe\">\n",
       "  <thead>\n",
       "    <tr style=\"text-align: right;\">\n",
       "      <th></th>\n",
       "      <th>Kind</th>\n",
       "      <th>Name</th>\n",
       "      <th>File</th>\n",
       "      <th>AltAvgLineBlank</th>\n",
       "      <th>AltAvgLineCode</th>\n",
       "      <th>AltAvgLineComment</th>\n",
       "      <th>AltCountLineBlank</th>\n",
       "      <th>AltCountLineCode</th>\n",
       "      <th>AltCountLineComment</th>\n",
       "      <th>AvgCyclomatic</th>\n",
       "      <th>...</th>\n",
       "      <th>MaxInheritanceTree</th>\n",
       "      <th>MaxNesting</th>\n",
       "      <th>MinEssentialKnots</th>\n",
       "      <th>PercentLackOfCohesion</th>\n",
       "      <th>PercentLackOfCohesionModified</th>\n",
       "      <th>RatioCommentToCode</th>\n",
       "      <th>SumCyclomatic</th>\n",
       "      <th>SumCyclomaticModified</th>\n",
       "      <th>SumCyclomaticStrict</th>\n",
       "      <th>SumEssential</th>\n",
       "    </tr>\n",
       "  </thead>\n",
       "  <tbody>\n",
       "    <tr>\n",
       "      <th>0</th>\n",
       "      <td>Class</td>\n",
       "      <td>Apache::Hadoop::Hive::AbortTxnRequest</td>\n",
       "      <td>hive\\metastore\\src\\gen\\thrift\\gen-cpp\\hive_met...</td>\n",
       "      <td>0.0</td>\n",
       "      <td>7.0</td>\n",
       "      <td>0.0</td>\n",
       "      <td>16.0</td>\n",
       "      <td>88.0</td>\n",
       "      <td>0.0</td>\n",
       "      <td>1.0</td>\n",
       "      <td>...</td>\n",
       "      <td>0.0</td>\n",
       "      <td>3.0</td>\n",
       "      <td>NaN</td>\n",
       "      <td>27.0</td>\n",
       "      <td>NaN</td>\n",
       "      <td>0.0</td>\n",
       "      <td>16.0</td>\n",
       "      <td>16.0</td>\n",
       "      <td>16.0</td>\n",
       "      <td>12.0</td>\n",
       "    </tr>\n",
       "    <tr>\n",
       "      <th>1</th>\n",
       "      <td>Public Function</td>\n",
       "      <td>Apache::Hadoop::Hive::AbortTxnRequest::AbortTx...</td>\n",
       "      <td>hive\\metastore\\src\\gen\\thrift\\gen-cpp\\hive_met...</td>\n",
       "      <td>NaN</td>\n",
       "      <td>NaN</td>\n",
       "      <td>NaN</td>\n",
       "      <td>0.0</td>\n",
       "      <td>3.0</td>\n",
       "      <td>0.0</td>\n",
       "      <td>NaN</td>\n",
       "      <td>...</td>\n",
       "      <td>NaN</td>\n",
       "      <td>0.0</td>\n",
       "      <td>0.0</td>\n",
       "      <td>NaN</td>\n",
       "      <td>NaN</td>\n",
       "      <td>0.0</td>\n",
       "      <td>NaN</td>\n",
       "      <td>NaN</td>\n",
       "      <td>NaN</td>\n",
       "      <td>NaN</td>\n",
       "    </tr>\n",
       "    <tr>\n",
       "      <th>2</th>\n",
       "      <td>Public Function</td>\n",
       "      <td>Apache::Hadoop::Hive::AbortTxnRequest::AbortTx...</td>\n",
       "      <td>hive\\metastore\\src\\gen\\thrift\\gen-cpp\\hive_met...</td>\n",
       "      <td>NaN</td>\n",
       "      <td>NaN</td>\n",
       "      <td>NaN</td>\n",
       "      <td>0.0</td>\n",
       "      <td>2.0</td>\n",
       "      <td>0.0</td>\n",
       "      <td>NaN</td>\n",
       "      <td>...</td>\n",
       "      <td>NaN</td>\n",
       "      <td>0.0</td>\n",
       "      <td>0.0</td>\n",
       "      <td>NaN</td>\n",
       "      <td>NaN</td>\n",
       "      <td>0.0</td>\n",
       "      <td>NaN</td>\n",
       "      <td>NaN</td>\n",
       "      <td>NaN</td>\n",
       "      <td>NaN</td>\n",
       "    </tr>\n",
       "    <tr>\n",
       "      <th>3</th>\n",
       "      <td>Public Function</td>\n",
       "      <td>Apache::Hadoop::Hive::AbortTxnRequest::__set_t...</td>\n",
       "      <td>hive\\metastore\\src\\gen\\thrift\\gen-cpp\\hive_met...</td>\n",
       "      <td>NaN</td>\n",
       "      <td>NaN</td>\n",
       "      <td>NaN</td>\n",
       "      <td>0.0</td>\n",
       "      <td>3.0</td>\n",
       "      <td>0.0</td>\n",
       "      <td>NaN</td>\n",
       "      <td>...</td>\n",
       "      <td>NaN</td>\n",
       "      <td>0.0</td>\n",
       "      <td>0.0</td>\n",
       "      <td>NaN</td>\n",
       "      <td>NaN</td>\n",
       "      <td>0.0</td>\n",
       "      <td>NaN</td>\n",
       "      <td>NaN</td>\n",
       "      <td>NaN</td>\n",
       "      <td>NaN</td>\n",
       "    </tr>\n",
       "    <tr>\n",
       "      <th>4</th>\n",
       "      <td>Public Const Function</td>\n",
       "      <td>Apache::Hadoop::Hive::AbortTxnRequest::operator!=</td>\n",
       "      <td>hive\\metastore\\src\\gen\\thrift\\gen-cpp\\hive_met...</td>\n",
       "      <td>NaN</td>\n",
       "      <td>NaN</td>\n",
       "      <td>NaN</td>\n",
       "      <td>0.0</td>\n",
       "      <td>3.0</td>\n",
       "      <td>0.0</td>\n",
       "      <td>NaN</td>\n",
       "      <td>...</td>\n",
       "      <td>NaN</td>\n",
       "      <td>0.0</td>\n",
       "      <td>0.0</td>\n",
       "      <td>NaN</td>\n",
       "      <td>NaN</td>\n",
       "      <td>0.0</td>\n",
       "      <td>NaN</td>\n",
       "      <td>NaN</td>\n",
       "      <td>NaN</td>\n",
       "      <td>NaN</td>\n",
       "    </tr>\n",
       "  </tbody>\n",
       "</table>\n",
       "<p>5 rows × 79 columns</p>\n",
       "</div>"
      ],
      "text/plain": [
       "                    Kind                                               Name  \\\n",
       "0                  Class              Apache::Hadoop::Hive::AbortTxnRequest   \n",
       "1        Public Function  Apache::Hadoop::Hive::AbortTxnRequest::AbortTx...   \n",
       "2        Public Function  Apache::Hadoop::Hive::AbortTxnRequest::AbortTx...   \n",
       "3        Public Function  Apache::Hadoop::Hive::AbortTxnRequest::__set_t...   \n",
       "4  Public Const Function  Apache::Hadoop::Hive::AbortTxnRequest::operator!=   \n",
       "\n",
       "                                                File  AltAvgLineBlank  \\\n",
       "0  hive\\metastore\\src\\gen\\thrift\\gen-cpp\\hive_met...              0.0   \n",
       "1  hive\\metastore\\src\\gen\\thrift\\gen-cpp\\hive_met...              NaN   \n",
       "2  hive\\metastore\\src\\gen\\thrift\\gen-cpp\\hive_met...              NaN   \n",
       "3  hive\\metastore\\src\\gen\\thrift\\gen-cpp\\hive_met...              NaN   \n",
       "4  hive\\metastore\\src\\gen\\thrift\\gen-cpp\\hive_met...              NaN   \n",
       "\n",
       "   AltAvgLineCode  AltAvgLineComment  AltCountLineBlank  AltCountLineCode  \\\n",
       "0             7.0                0.0               16.0              88.0   \n",
       "1             NaN                NaN                0.0               3.0   \n",
       "2             NaN                NaN                0.0               2.0   \n",
       "3             NaN                NaN                0.0               3.0   \n",
       "4             NaN                NaN                0.0               3.0   \n",
       "\n",
       "   AltCountLineComment  AvgCyclomatic  ...  MaxInheritanceTree  MaxNesting  \\\n",
       "0                  0.0            1.0  ...                 0.0         3.0   \n",
       "1                  0.0            NaN  ...                 NaN         0.0   \n",
       "2                  0.0            NaN  ...                 NaN         0.0   \n",
       "3                  0.0            NaN  ...                 NaN         0.0   \n",
       "4                  0.0            NaN  ...                 NaN         0.0   \n",
       "\n",
       "   MinEssentialKnots  PercentLackOfCohesion  PercentLackOfCohesionModified  \\\n",
       "0                NaN                   27.0                            NaN   \n",
       "1                0.0                    NaN                            NaN   \n",
       "2                0.0                    NaN                            NaN   \n",
       "3                0.0                    NaN                            NaN   \n",
       "4                0.0                    NaN                            NaN   \n",
       "\n",
       "   RatioCommentToCode  SumCyclomatic  SumCyclomaticModified  \\\n",
       "0                 0.0           16.0                   16.0   \n",
       "1                 0.0            NaN                    NaN   \n",
       "2                 0.0            NaN                    NaN   \n",
       "3                 0.0            NaN                    NaN   \n",
       "4                 0.0            NaN                    NaN   \n",
       "\n",
       "   SumCyclomaticStrict  SumEssential  \n",
       "0                 16.0          12.0  \n",
       "1                  NaN           NaN  \n",
       "2                  NaN           NaN  \n",
       "3                  NaN           NaN  \n",
       "4                  NaN           NaN  \n",
       "\n",
       "[5 rows x 79 columns]"
      ]
     },
     "execution_count": 3,
     "metadata": {},
     "output_type": "execute_result"
    }
   ],
   "source": [
    "df = pd.read_csv(INPUT_DIR + \"hive-metrics-v2/2.0.0.csv\")\n",
    "df.head()"
   ]
  },
  {
   "cell_type": "markdown",
   "metadata": {},
   "source": [
    "We can see that we have metrics for not only files but also for packages, classes, and functions. Also, there are a lot more metrics than we want.\n",
    "Therefore, we need to select precisely what we want from the dataset."
   ]
  },
  {
   "cell_type": "markdown",
   "metadata": {},
   "source": [
    "Below we can observe that classes' metrics don't have any value for files."
   ]
  },
  {
   "cell_type": "code",
   "execution_count": 4,
   "metadata": {},
   "outputs": [
    {
     "data": {
      "text/plain": [
       "CountClassBase           0.0\n",
       "CountClassCoupled        0.0\n",
       "CountClassDerived        0.0\n",
       "MaxInheritanceTree       0.0\n",
       "PercentLackOfCohesion    0.0\n",
       "Name: count, dtype: float64"
      ]
     },
     "execution_count": 4,
     "metadata": {},
     "output_type": "execute_result"
    }
   ],
   "source": [
    "classes_metrics_cols = [\"Name\", \"CountClassBase\", \"CountClassCoupled\", \"CountClassDerived\", \"MaxInheritanceTree\", \"PercentLackOfCohesion\"]\n",
    "df.loc[df[\"Kind\"] == \"File\"][classes_metrics_cols].describe().loc[\"count\"]"
   ]
  },
  {
   "cell_type": "markdown",
   "metadata": {},
   "source": [
    "Same for methods' metrics"
   ]
  },
  {
   "cell_type": "code",
   "execution_count": 5,
   "metadata": {},
   "outputs": [
    {
     "data": {
      "text/plain": [
       "CountInput               0.0\n",
       "CountClassCoupled        0.0\n",
       "CountClassDerived        0.0\n",
       "MaxInheritanceTree       0.0\n",
       "PercentLackOfCohesion    0.0\n",
       "Name: count, dtype: float64"
      ]
     },
     "execution_count": 5,
     "metadata": {},
     "output_type": "execute_result"
    }
   ],
   "source": [
    "methods_metrics_cols = [\"Name\", \"CountInput\", \"CountClassCoupled\", \"CountClassDerived\", \"MaxInheritanceTree\", \"PercentLackOfCohesion\"]\n",
    "df.loc[df[\"Kind\"] == \"File\"][methods_metrics_cols].describe().loc[\"count\"]"
   ]
  },
  {
   "cell_type": "markdown",
   "metadata": {},
   "source": [
    "### Metrics selection"
   ]
  },
  {
   "cell_type": "markdown",
   "metadata": {},
   "source": [
    "We therefore choose to only collect files' metrics as we are trying to predict bugs at files level."
   ]
  },
  {
   "cell_type": "code",
   "execution_count": 6,
   "metadata": {},
   "outputs": [
    {
     "data": {
      "text/html": [
       "<div>\n",
       "<style scoped>\n",
       "    .dataframe tbody tr th:only-of-type {\n",
       "        vertical-align: middle;\n",
       "    }\n",
       "\n",
       "    .dataframe tbody tr th {\n",
       "        vertical-align: top;\n",
       "    }\n",
       "\n",
       "    .dataframe thead th {\n",
       "        text-align: right;\n",
       "    }\n",
       "</style>\n",
       "<table border=\"1\" class=\"dataframe\">\n",
       "  <thead>\n",
       "    <tr style=\"text-align: right;\">\n",
       "      <th></th>\n",
       "      <th>AvgCyclomatic</th>\n",
       "      <th>AvgCyclomaticModified</th>\n",
       "      <th>AvgCyclomaticStrict</th>\n",
       "      <th>AvgEssential</th>\n",
       "      <th>AvgLine</th>\n",
       "      <th>AvgLineBlank</th>\n",
       "      <th>AvgLineCode</th>\n",
       "      <th>AvgLineComment</th>\n",
       "      <th>CountDeclClass</th>\n",
       "      <th>CountDeclClassMethod</th>\n",
       "      <th>...</th>\n",
       "      <th>CountStmtDecl</th>\n",
       "      <th>CountStmtExe</th>\n",
       "      <th>MaxCyclomatic</th>\n",
       "      <th>MaxCyclomaticModified</th>\n",
       "      <th>MaxCyclomaticStrict</th>\n",
       "      <th>RatioCommentToCode</th>\n",
       "      <th>SumCyclomatic</th>\n",
       "      <th>SumCyclomaticModified</th>\n",
       "      <th>SumCyclomaticStrict</th>\n",
       "      <th>SumEssential</th>\n",
       "    </tr>\n",
       "  </thead>\n",
       "  <tbody>\n",
       "    <tr>\n",
       "      <th>count</th>\n",
       "      <td>4992.000000</td>\n",
       "      <td>4992.000000</td>\n",
       "      <td>4992.000000</td>\n",
       "      <td>4992.000000</td>\n",
       "      <td>4992.000000</td>\n",
       "      <td>4992.000000</td>\n",
       "      <td>4992.000000</td>\n",
       "      <td>4992.000000</td>\n",
       "      <td>4992.000000</td>\n",
       "      <td>4953.000000</td>\n",
       "      <td>...</td>\n",
       "      <td>4992.000000</td>\n",
       "      <td>4992.000000</td>\n",
       "      <td>4992.000000</td>\n",
       "      <td>4992.000000</td>\n",
       "      <td>4992.000000</td>\n",
       "      <td>4992.000000</td>\n",
       "      <td>4992.000000</td>\n",
       "      <td>4992.000000</td>\n",
       "      <td>4992.000000</td>\n",
       "      <td>4992.000000</td>\n",
       "    </tr>\n",
       "    <tr>\n",
       "      <th>mean</th>\n",
       "      <td>1.755008</td>\n",
       "      <td>1.631410</td>\n",
       "      <td>1.896835</td>\n",
       "      <td>1.028646</td>\n",
       "      <td>12.165264</td>\n",
       "      <td>0.654647</td>\n",
       "      <td>10.082933</td>\n",
       "      <td>1.047877</td>\n",
       "      <td>2.701723</td>\n",
       "      <td>1.792449</td>\n",
       "      <td>...</td>\n",
       "      <td>65.978566</td>\n",
       "      <td>112.604768</td>\n",
       "      <td>5.886819</td>\n",
       "      <td>5.330128</td>\n",
       "      <td>7.014824</td>\n",
       "      <td>0.877326</td>\n",
       "      <td>43.287861</td>\n",
       "      <td>40.936498</td>\n",
       "      <td>46.558093</td>\n",
       "      <td>25.011218</td>\n",
       "    </tr>\n",
       "    <tr>\n",
       "      <th>std</th>\n",
       "      <td>1.878251</td>\n",
       "      <td>1.484832</td>\n",
       "      <td>2.077340</td>\n",
       "      <td>0.728791</td>\n",
       "      <td>13.920479</td>\n",
       "      <td>2.024822</td>\n",
       "      <td>11.074217</td>\n",
       "      <td>2.309787</td>\n",
       "      <td>35.769781</td>\n",
       "      <td>18.347462</td>\n",
       "      <td>...</td>\n",
       "      <td>485.997380</td>\n",
       "      <td>1252.434005</td>\n",
       "      <td>8.452574</td>\n",
       "      <td>7.227726</td>\n",
       "      <td>10.928310</td>\n",
       "      <td>2.681480</td>\n",
       "      <td>539.986280</td>\n",
       "      <td>510.093969</td>\n",
       "      <td>585.422186</td>\n",
       "      <td>324.414761</td>\n",
       "    </tr>\n",
       "    <tr>\n",
       "      <th>min</th>\n",
       "      <td>0.000000</td>\n",
       "      <td>0.000000</td>\n",
       "      <td>0.000000</td>\n",
       "      <td>0.000000</td>\n",
       "      <td>0.000000</td>\n",
       "      <td>0.000000</td>\n",
       "      <td>0.000000</td>\n",
       "      <td>0.000000</td>\n",
       "      <td>0.000000</td>\n",
       "      <td>0.000000</td>\n",
       "      <td>...</td>\n",
       "      <td>1.000000</td>\n",
       "      <td>0.000000</td>\n",
       "      <td>0.000000</td>\n",
       "      <td>0.000000</td>\n",
       "      <td>0.000000</td>\n",
       "      <td>0.000000</td>\n",
       "      <td>0.000000</td>\n",
       "      <td>0.000000</td>\n",
       "      <td>0.000000</td>\n",
       "      <td>0.000000</td>\n",
       "    </tr>\n",
       "    <tr>\n",
       "      <th>25%</th>\n",
       "      <td>1.000000</td>\n",
       "      <td>1.000000</td>\n",
       "      <td>1.000000</td>\n",
       "      <td>1.000000</td>\n",
       "      <td>4.000000</td>\n",
       "      <td>0.000000</td>\n",
       "      <td>4.000000</td>\n",
       "      <td>0.000000</td>\n",
       "      <td>1.000000</td>\n",
       "      <td>0.000000</td>\n",
       "      <td>...</td>\n",
       "      <td>12.000000</td>\n",
       "      <td>7.000000</td>\n",
       "      <td>1.000000</td>\n",
       "      <td>1.000000</td>\n",
       "      <td>1.000000</td>\n",
       "      <td>0.210000</td>\n",
       "      <td>4.000000</td>\n",
       "      <td>4.000000</td>\n",
       "      <td>4.000000</td>\n",
       "      <td>3.000000</td>\n",
       "    </tr>\n",
       "    <tr>\n",
       "      <th>50%</th>\n",
       "      <td>1.000000</td>\n",
       "      <td>1.000000</td>\n",
       "      <td>1.000000</td>\n",
       "      <td>1.000000</td>\n",
       "      <td>8.000000</td>\n",
       "      <td>0.000000</td>\n",
       "      <td>7.000000</td>\n",
       "      <td>0.000000</td>\n",
       "      <td>1.000000</td>\n",
       "      <td>0.000000</td>\n",
       "      <td>...</td>\n",
       "      <td>26.000000</td>\n",
       "      <td>25.000000</td>\n",
       "      <td>3.000000</td>\n",
       "      <td>3.000000</td>\n",
       "      <td>3.000000</td>\n",
       "      <td>0.410000</td>\n",
       "      <td>10.000000</td>\n",
       "      <td>10.000000</td>\n",
       "      <td>11.000000</td>\n",
       "      <td>7.000000</td>\n",
       "    </tr>\n",
       "    <tr>\n",
       "      <th>75%</th>\n",
       "      <td>2.000000</td>\n",
       "      <td>2.000000</td>\n",
       "      <td>2.000000</td>\n",
       "      <td>1.000000</td>\n",
       "      <td>15.000000</td>\n",
       "      <td>1.000000</td>\n",
       "      <td>13.000000</td>\n",
       "      <td>1.000000</td>\n",
       "      <td>2.000000</td>\n",
       "      <td>1.000000</td>\n",
       "      <td>...</td>\n",
       "      <td>60.000000</td>\n",
       "      <td>78.000000</td>\n",
       "      <td>7.000000</td>\n",
       "      <td>7.000000</td>\n",
       "      <td>9.000000</td>\n",
       "      <td>0.880000</td>\n",
       "      <td>28.000000</td>\n",
       "      <td>27.000000</td>\n",
       "      <td>30.000000</td>\n",
       "      <td>16.000000</td>\n",
       "    </tr>\n",
       "    <tr>\n",
       "      <th>max</th>\n",
       "      <td>35.000000</td>\n",
       "      <td>17.000000</td>\n",
       "      <td>35.000000</td>\n",
       "      <td>13.000000</td>\n",
       "      <td>354.000000</td>\n",
       "      <td>66.000000</td>\n",
       "      <td>260.000000</td>\n",
       "      <td>38.000000</td>\n",
       "      <td>2409.000000</td>\n",
       "      <td>902.000000</td>\n",
       "      <td>...</td>\n",
       "      <td>29959.000000</td>\n",
       "      <td>76450.000000</td>\n",
       "      <td>145.000000</td>\n",
       "      <td>96.000000</td>\n",
       "      <td>152.000000</td>\n",
       "      <td>144.000000</td>\n",
       "      <td>35520.000000</td>\n",
       "      <td>33530.000000</td>\n",
       "      <td>38848.000000</td>\n",
       "      <td>21642.000000</td>\n",
       "    </tr>\n",
       "  </tbody>\n",
       "</table>\n",
       "<p>8 rows × 37 columns</p>\n",
       "</div>"
      ],
      "text/plain": [
       "       AvgCyclomatic  AvgCyclomaticModified  AvgCyclomaticStrict  \\\n",
       "count    4992.000000            4992.000000          4992.000000   \n",
       "mean        1.755008               1.631410             1.896835   \n",
       "std         1.878251               1.484832             2.077340   \n",
       "min         0.000000               0.000000             0.000000   \n",
       "25%         1.000000               1.000000             1.000000   \n",
       "50%         1.000000               1.000000             1.000000   \n",
       "75%         2.000000               2.000000             2.000000   \n",
       "max        35.000000              17.000000            35.000000   \n",
       "\n",
       "       AvgEssential      AvgLine  AvgLineBlank  AvgLineCode  AvgLineComment  \\\n",
       "count   4992.000000  4992.000000   4992.000000  4992.000000     4992.000000   \n",
       "mean       1.028646    12.165264      0.654647    10.082933        1.047877   \n",
       "std        0.728791    13.920479      2.024822    11.074217        2.309787   \n",
       "min        0.000000     0.000000      0.000000     0.000000        0.000000   \n",
       "25%        1.000000     4.000000      0.000000     4.000000        0.000000   \n",
       "50%        1.000000     8.000000      0.000000     7.000000        0.000000   \n",
       "75%        1.000000    15.000000      1.000000    13.000000        1.000000   \n",
       "max       13.000000   354.000000     66.000000   260.000000       38.000000   \n",
       "\n",
       "       CountDeclClass  CountDeclClassMethod  ...  CountStmtDecl  CountStmtExe  \\\n",
       "count     4992.000000           4953.000000  ...    4992.000000   4992.000000   \n",
       "mean         2.701723              1.792449  ...      65.978566    112.604768   \n",
       "std         35.769781             18.347462  ...     485.997380   1252.434005   \n",
       "min          0.000000              0.000000  ...       1.000000      0.000000   \n",
       "25%          1.000000              0.000000  ...      12.000000      7.000000   \n",
       "50%          1.000000              0.000000  ...      26.000000     25.000000   \n",
       "75%          2.000000              1.000000  ...      60.000000     78.000000   \n",
       "max       2409.000000            902.000000  ...   29959.000000  76450.000000   \n",
       "\n",
       "       MaxCyclomatic  MaxCyclomaticModified  MaxCyclomaticStrict  \\\n",
       "count    4992.000000            4992.000000          4992.000000   \n",
       "mean        5.886819               5.330128             7.014824   \n",
       "std         8.452574               7.227726            10.928310   \n",
       "min         0.000000               0.000000             0.000000   \n",
       "25%         1.000000               1.000000             1.000000   \n",
       "50%         3.000000               3.000000             3.000000   \n",
       "75%         7.000000               7.000000             9.000000   \n",
       "max       145.000000              96.000000           152.000000   \n",
       "\n",
       "       RatioCommentToCode  SumCyclomatic  SumCyclomaticModified  \\\n",
       "count         4992.000000    4992.000000            4992.000000   \n",
       "mean             0.877326      43.287861              40.936498   \n",
       "std              2.681480     539.986280             510.093969   \n",
       "min              0.000000       0.000000               0.000000   \n",
       "25%              0.210000       4.000000               4.000000   \n",
       "50%              0.410000      10.000000              10.000000   \n",
       "75%              0.880000      28.000000              27.000000   \n",
       "max            144.000000   35520.000000           33530.000000   \n",
       "\n",
       "       SumCyclomaticStrict  SumEssential  \n",
       "count          4992.000000   4992.000000  \n",
       "mean             46.558093     25.011218  \n",
       "std             585.422186    324.414761  \n",
       "min               0.000000      0.000000  \n",
       "25%               4.000000      3.000000  \n",
       "50%              11.000000      7.000000  \n",
       "75%              30.000000     16.000000  \n",
       "max           38848.000000  21642.000000  \n",
       "\n",
       "[8 rows x 37 columns]"
      ]
     },
     "execution_count": 6,
     "metadata": {},
     "output_type": "execute_result"
    }
   ],
   "source": [
    "metrics_cols = [\"Name\", \"AvgCyclomatic\", \"AvgCyclomaticModified\", \"AvgCyclomaticStrict\", \"AvgEssential\", \"AvgLine\", \"AvgLineBlank\", \"AvgLineCode\", \n",
    "    \"AvgLineComment\", \"CountDeclClass\", \"CountDeclClassMethod\", \"CountDeclClassVariable\", \"CountDeclFunction\", \"CountDeclInstanceMethod\",\n",
    "    \"CountDeclInstanceVariable\", \"CountDeclMethod\", \"CountDeclMethodDefault\", \"CountDeclMethodPrivate\", \"CountDeclMethodProtected\",\n",
    "    \"CountDeclMethodPublic\", \"CountLine\", \"CountLineBlank\", \"CountLineCode\", \"CountLineCodeDecl\", \"CountLineCodeExe\", \"CountLineComment\", \n",
    "    \"CountSemicolon\", \"CountStmt\", \"CountStmtDecl\", \"CountStmtExe\", \"MaxCyclomatic\", \"MaxCyclomaticModified\", \"MaxCyclomaticStrict\", \n",
    "    \"RatioCommentToCode\", \"SumCyclomatic\", \"SumCyclomaticModified\", \"SumCyclomaticStrict\", \"SumEssential\"]\n",
    "\n",
    "data = df.loc[df[\"Kind\"] == \"File\"][metrics_cols]\n",
    "data.describe()"
   ]
  },
  {
   "cell_type": "code",
   "execution_count": 7,
   "metadata": {},
   "outputs": [
    {
     "data": {
      "text/html": [
       "<div>\n",
       "<style scoped>\n",
       "    .dataframe tbody tr th:only-of-type {\n",
       "        vertical-align: middle;\n",
       "    }\n",
       "\n",
       "    .dataframe tbody tr th {\n",
       "        vertical-align: top;\n",
       "    }\n",
       "\n",
       "    .dataframe thead th {\n",
       "        text-align: right;\n",
       "    }\n",
       "</style>\n",
       "<table border=\"1\" class=\"dataframe\">\n",
       "  <thead>\n",
       "    <tr style=\"text-align: right;\">\n",
       "      <th></th>\n",
       "      <th>Name</th>\n",
       "      <th>Version</th>\n",
       "      <th>AvgCyclomatic</th>\n",
       "      <th>AvgCyclomaticModified</th>\n",
       "      <th>AvgCyclomaticStrict</th>\n",
       "      <th>AvgEssential</th>\n",
       "      <th>AvgLine</th>\n",
       "      <th>AvgLineBlank</th>\n",
       "      <th>AvgLineCode</th>\n",
       "      <th>AvgLineComment</th>\n",
       "      <th>...</th>\n",
       "      <th>CountStmtDecl</th>\n",
       "      <th>CountStmtExe</th>\n",
       "      <th>MaxCyclomatic</th>\n",
       "      <th>MaxCyclomaticModified</th>\n",
       "      <th>MaxCyclomaticStrict</th>\n",
       "      <th>RatioCommentToCode</th>\n",
       "      <th>SumCyclomatic</th>\n",
       "      <th>SumCyclomaticModified</th>\n",
       "      <th>SumCyclomaticStrict</th>\n",
       "      <th>SumEssential</th>\n",
       "    </tr>\n",
       "  </thead>\n",
       "  <tbody>\n",
       "    <tr>\n",
       "      <th>7639</th>\n",
       "      <td>hive\\accumulo-handler\\src\\java\\org\\apache\\hado...</td>\n",
       "      <td>2.0.0</td>\n",
       "      <td>1.0</td>\n",
       "      <td>1.0</td>\n",
       "      <td>1.0</td>\n",
       "      <td>1.0</td>\n",
       "      <td>9.0</td>\n",
       "      <td>0.0</td>\n",
       "      <td>6.0</td>\n",
       "      <td>1.0</td>\n",
       "      <td>...</td>\n",
       "      <td>56.0</td>\n",
       "      <td>61.0</td>\n",
       "      <td>4.0</td>\n",
       "      <td>4.0</td>\n",
       "      <td>4.0</td>\n",
       "      <td>0.35</td>\n",
       "      <td>29.0</td>\n",
       "      <td>29.0</td>\n",
       "      <td>30.0</td>\n",
       "      <td>17.0</td>\n",
       "    </tr>\n",
       "    <tr>\n",
       "      <th>7640</th>\n",
       "      <td>hive\\accumulo-handler\\src\\java\\org\\apache\\hado...</td>\n",
       "      <td>2.0.0</td>\n",
       "      <td>0.0</td>\n",
       "      <td>0.0</td>\n",
       "      <td>0.0</td>\n",
       "      <td>0.0</td>\n",
       "      <td>0.0</td>\n",
       "      <td>0.0</td>\n",
       "      <td>0.0</td>\n",
       "      <td>0.0</td>\n",
       "      <td>...</td>\n",
       "      <td>10.0</td>\n",
       "      <td>5.0</td>\n",
       "      <td>0.0</td>\n",
       "      <td>0.0</td>\n",
       "      <td>0.0</td>\n",
       "      <td>1.50</td>\n",
       "      <td>0.0</td>\n",
       "      <td>0.0</td>\n",
       "      <td>0.0</td>\n",
       "      <td>0.0</td>\n",
       "    </tr>\n",
       "    <tr>\n",
       "      <th>7641</th>\n",
       "      <td>hive\\accumulo-handler\\src\\java\\org\\apache\\hado...</td>\n",
       "      <td>2.0.0</td>\n",
       "      <td>2.0</td>\n",
       "      <td>2.0</td>\n",
       "      <td>2.0</td>\n",
       "      <td>1.0</td>\n",
       "      <td>8.0</td>\n",
       "      <td>0.0</td>\n",
       "      <td>7.0</td>\n",
       "      <td>0.0</td>\n",
       "      <td>...</td>\n",
       "      <td>62.0</td>\n",
       "      <td>93.0</td>\n",
       "      <td>10.0</td>\n",
       "      <td>10.0</td>\n",
       "      <td>10.0</td>\n",
       "      <td>0.14</td>\n",
       "      <td>44.0</td>\n",
       "      <td>44.0</td>\n",
       "      <td>46.0</td>\n",
       "      <td>38.0</td>\n",
       "    </tr>\n",
       "    <tr>\n",
       "      <th>7642</th>\n",
       "      <td>hive\\accumulo-handler\\src\\java\\org\\apache\\hado...</td>\n",
       "      <td>2.0.0</td>\n",
       "      <td>2.0</td>\n",
       "      <td>2.0</td>\n",
       "      <td>2.0</td>\n",
       "      <td>1.0</td>\n",
       "      <td>14.0</td>\n",
       "      <td>1.0</td>\n",
       "      <td>11.0</td>\n",
       "      <td>1.0</td>\n",
       "      <td>...</td>\n",
       "      <td>100.0</td>\n",
       "      <td>121.0</td>\n",
       "      <td>9.0</td>\n",
       "      <td>9.0</td>\n",
       "      <td>9.0</td>\n",
       "      <td>0.16</td>\n",
       "      <td>57.0</td>\n",
       "      <td>57.0</td>\n",
       "      <td>58.0</td>\n",
       "      <td>26.0</td>\n",
       "    </tr>\n",
       "    <tr>\n",
       "      <th>7643</th>\n",
       "      <td>hive\\accumulo-handler\\src\\java\\org\\apache\\hado...</td>\n",
       "      <td>2.0.0</td>\n",
       "      <td>2.0</td>\n",
       "      <td>2.0</td>\n",
       "      <td>2.0</td>\n",
       "      <td>1.0</td>\n",
       "      <td>29.0</td>\n",
       "      <td>1.0</td>\n",
       "      <td>13.0</td>\n",
       "      <td>14.0</td>\n",
       "      <td>...</td>\n",
       "      <td>68.0</td>\n",
       "      <td>60.0</td>\n",
       "      <td>5.0</td>\n",
       "      <td>5.0</td>\n",
       "      <td>6.0</td>\n",
       "      <td>0.92</td>\n",
       "      <td>20.0</td>\n",
       "      <td>20.0</td>\n",
       "      <td>21.0</td>\n",
       "      <td>10.0</td>\n",
       "    </tr>\n",
       "  </tbody>\n",
       "</table>\n",
       "<p>5 rows × 39 columns</p>\n",
       "</div>"
      ],
      "text/plain": [
       "                                                   Name Version  \\\n",
       "7639  hive\\accumulo-handler\\src\\java\\org\\apache\\hado...   2.0.0   \n",
       "7640  hive\\accumulo-handler\\src\\java\\org\\apache\\hado...   2.0.0   \n",
       "7641  hive\\accumulo-handler\\src\\java\\org\\apache\\hado...   2.0.0   \n",
       "7642  hive\\accumulo-handler\\src\\java\\org\\apache\\hado...   2.0.0   \n",
       "7643  hive\\accumulo-handler\\src\\java\\org\\apache\\hado...   2.0.0   \n",
       "\n",
       "      AvgCyclomatic  AvgCyclomaticModified  AvgCyclomaticStrict  AvgEssential  \\\n",
       "7639            1.0                    1.0                  1.0           1.0   \n",
       "7640            0.0                    0.0                  0.0           0.0   \n",
       "7641            2.0                    2.0                  2.0           1.0   \n",
       "7642            2.0                    2.0                  2.0           1.0   \n",
       "7643            2.0                    2.0                  2.0           1.0   \n",
       "\n",
       "      AvgLine  AvgLineBlank  AvgLineCode  AvgLineComment  ...  CountStmtDecl  \\\n",
       "7639      9.0           0.0          6.0             1.0  ...           56.0   \n",
       "7640      0.0           0.0          0.0             0.0  ...           10.0   \n",
       "7641      8.0           0.0          7.0             0.0  ...           62.0   \n",
       "7642     14.0           1.0         11.0             1.0  ...          100.0   \n",
       "7643     29.0           1.0         13.0            14.0  ...           68.0   \n",
       "\n",
       "      CountStmtExe  MaxCyclomatic  MaxCyclomaticModified  MaxCyclomaticStrict  \\\n",
       "7639          61.0            4.0                    4.0                  4.0   \n",
       "7640           5.0            0.0                    0.0                  0.0   \n",
       "7641          93.0           10.0                   10.0                 10.0   \n",
       "7642         121.0            9.0                    9.0                  9.0   \n",
       "7643          60.0            5.0                    5.0                  6.0   \n",
       "\n",
       "      RatioCommentToCode  SumCyclomatic  SumCyclomaticModified  \\\n",
       "7639                0.35           29.0                   29.0   \n",
       "7640                1.50            0.0                    0.0   \n",
       "7641                0.14           44.0                   44.0   \n",
       "7642                0.16           57.0                   57.0   \n",
       "7643                0.92           20.0                   20.0   \n",
       "\n",
       "      SumCyclomaticStrict  SumEssential  \n",
       "7639                 30.0          17.0  \n",
       "7640                  0.0           0.0  \n",
       "7641                 46.0          38.0  \n",
       "7642                 58.0          26.0  \n",
       "7643                 21.0          10.0  \n",
       "\n",
       "[5 rows x 39 columns]"
      ]
     },
     "execution_count": 7,
     "metadata": {},
     "output_type": "execute_result"
    }
   ],
   "source": [
    "data.insert(1, \"Version\", \"2.0.0\")\n",
    "data.head()"
   ]
  },
  {
   "cell_type": "markdown",
   "metadata": {},
   "source": [
    "We have a proper dataset to work on. \n",
    "\n",
    "Now, let us replicate this process on all versions of files."
   ]
  },
  {
   "cell_type": "code",
   "execution_count": 8,
   "metadata": {},
   "outputs": [
    {
     "ename": "FileNotFoundError",
     "evalue": "[Errno 2] No such file or directory: '../../data/input/hive-metrics-2.0.0.csv'",
     "output_type": "error",
     "traceback": [
      "\u001b[0;31m---------------------------------------------------------------------------\u001b[0m",
      "\u001b[0;31mFileNotFoundError\u001b[0m                         Traceback (most recent call last)",
      "Input \u001b[0;32mIn [8]\u001b[0m, in \u001b[0;36m<cell line: 1>\u001b[0;34m()\u001b[0m\n\u001b[1;32m      1\u001b[0m \u001b[38;5;28;01mfor\u001b[39;00m version \u001b[38;5;129;01min\u001b[39;00m RELEASED_VERSIONS:\n\u001b[0;32m----> 2\u001b[0m     df \u001b[38;5;241m=\u001b[39m \u001b[43mpd\u001b[49m\u001b[38;5;241;43m.\u001b[39;49m\u001b[43mread_csv\u001b[49m\u001b[43m(\u001b[49m\u001b[43mINPUT_DIR\u001b[49m\u001b[43m \u001b[49m\u001b[38;5;241;43m+\u001b[39;49m\u001b[43m \u001b[49m\u001b[38;5;124;43mf\u001b[39;49m\u001b[38;5;124;43m\"\u001b[39;49m\u001b[38;5;124;43mhive-metrics-\u001b[39;49m\u001b[38;5;132;43;01m{\u001b[39;49;00m\u001b[43mversion\u001b[49m\u001b[38;5;132;43;01m}\u001b[39;49;00m\u001b[38;5;124;43m.csv\u001b[39;49m\u001b[38;5;124;43m\"\u001b[39;49m\u001b[43m)\u001b[49m\n\u001b[1;32m      3\u001b[0m     df \u001b[38;5;241m=\u001b[39m df\u001b[38;5;241m.\u001b[39mloc[df[\u001b[38;5;124m\"\u001b[39m\u001b[38;5;124mKind\u001b[39m\u001b[38;5;124m\"\u001b[39m] \u001b[38;5;241m==\u001b[39m \u001b[38;5;124m\"\u001b[39m\u001b[38;5;124mFile\u001b[39m\u001b[38;5;124m\"\u001b[39m][metrics_cols]\n\u001b[1;32m      4\u001b[0m     df\u001b[38;5;241m.\u001b[39minsert(\u001b[38;5;241m1\u001b[39m, \u001b[38;5;124m\"\u001b[39m\u001b[38;5;124mVersion\u001b[39m\u001b[38;5;124m\"\u001b[39m, version)\n",
      "File \u001b[0;32m~/lib/miniconda3/lib/python3.9/site-packages/pandas/util/_decorators.py:311\u001b[0m, in \u001b[0;36mdeprecate_nonkeyword_arguments.<locals>.decorate.<locals>.wrapper\u001b[0;34m(*args, **kwargs)\u001b[0m\n\u001b[1;32m    305\u001b[0m \u001b[38;5;28;01mif\u001b[39;00m \u001b[38;5;28mlen\u001b[39m(args) \u001b[38;5;241m>\u001b[39m num_allow_args:\n\u001b[1;32m    306\u001b[0m     warnings\u001b[38;5;241m.\u001b[39mwarn(\n\u001b[1;32m    307\u001b[0m         msg\u001b[38;5;241m.\u001b[39mformat(arguments\u001b[38;5;241m=\u001b[39marguments),\n\u001b[1;32m    308\u001b[0m         \u001b[38;5;167;01mFutureWarning\u001b[39;00m,\n\u001b[1;32m    309\u001b[0m         stacklevel\u001b[38;5;241m=\u001b[39mstacklevel,\n\u001b[1;32m    310\u001b[0m     )\n\u001b[0;32m--> 311\u001b[0m \u001b[38;5;28;01mreturn\u001b[39;00m \u001b[43mfunc\u001b[49m\u001b[43m(\u001b[49m\u001b[38;5;241;43m*\u001b[39;49m\u001b[43margs\u001b[49m\u001b[43m,\u001b[49m\u001b[43m \u001b[49m\u001b[38;5;241;43m*\u001b[39;49m\u001b[38;5;241;43m*\u001b[39;49m\u001b[43mkwargs\u001b[49m\u001b[43m)\u001b[49m\n",
      "File \u001b[0;32m~/lib/miniconda3/lib/python3.9/site-packages/pandas/io/parsers/readers.py:678\u001b[0m, in \u001b[0;36mread_csv\u001b[0;34m(filepath_or_buffer, sep, delimiter, header, names, index_col, usecols, squeeze, prefix, mangle_dupe_cols, dtype, engine, converters, true_values, false_values, skipinitialspace, skiprows, skipfooter, nrows, na_values, keep_default_na, na_filter, verbose, skip_blank_lines, parse_dates, infer_datetime_format, keep_date_col, date_parser, dayfirst, cache_dates, iterator, chunksize, compression, thousands, decimal, lineterminator, quotechar, quoting, doublequote, escapechar, comment, encoding, encoding_errors, dialect, error_bad_lines, warn_bad_lines, on_bad_lines, delim_whitespace, low_memory, memory_map, float_precision, storage_options)\u001b[0m\n\u001b[1;32m    663\u001b[0m kwds_defaults \u001b[38;5;241m=\u001b[39m _refine_defaults_read(\n\u001b[1;32m    664\u001b[0m     dialect,\n\u001b[1;32m    665\u001b[0m     delimiter,\n\u001b[0;32m   (...)\u001b[0m\n\u001b[1;32m    674\u001b[0m     defaults\u001b[38;5;241m=\u001b[39m{\u001b[38;5;124m\"\u001b[39m\u001b[38;5;124mdelimiter\u001b[39m\u001b[38;5;124m\"\u001b[39m: \u001b[38;5;124m\"\u001b[39m\u001b[38;5;124m,\u001b[39m\u001b[38;5;124m\"\u001b[39m},\n\u001b[1;32m    675\u001b[0m )\n\u001b[1;32m    676\u001b[0m kwds\u001b[38;5;241m.\u001b[39mupdate(kwds_defaults)\n\u001b[0;32m--> 678\u001b[0m \u001b[38;5;28;01mreturn\u001b[39;00m \u001b[43m_read\u001b[49m\u001b[43m(\u001b[49m\u001b[43mfilepath_or_buffer\u001b[49m\u001b[43m,\u001b[49m\u001b[43m \u001b[49m\u001b[43mkwds\u001b[49m\u001b[43m)\u001b[49m\n",
      "File \u001b[0;32m~/lib/miniconda3/lib/python3.9/site-packages/pandas/io/parsers/readers.py:575\u001b[0m, in \u001b[0;36m_read\u001b[0;34m(filepath_or_buffer, kwds)\u001b[0m\n\u001b[1;32m    572\u001b[0m _validate_names(kwds\u001b[38;5;241m.\u001b[39mget(\u001b[38;5;124m\"\u001b[39m\u001b[38;5;124mnames\u001b[39m\u001b[38;5;124m\"\u001b[39m, \u001b[38;5;28;01mNone\u001b[39;00m))\n\u001b[1;32m    574\u001b[0m \u001b[38;5;66;03m# Create the parser.\u001b[39;00m\n\u001b[0;32m--> 575\u001b[0m parser \u001b[38;5;241m=\u001b[39m \u001b[43mTextFileReader\u001b[49m\u001b[43m(\u001b[49m\u001b[43mfilepath_or_buffer\u001b[49m\u001b[43m,\u001b[49m\u001b[43m \u001b[49m\u001b[38;5;241;43m*\u001b[39;49m\u001b[38;5;241;43m*\u001b[39;49m\u001b[43mkwds\u001b[49m\u001b[43m)\u001b[49m\n\u001b[1;32m    577\u001b[0m \u001b[38;5;28;01mif\u001b[39;00m chunksize \u001b[38;5;129;01mor\u001b[39;00m iterator:\n\u001b[1;32m    578\u001b[0m     \u001b[38;5;28;01mreturn\u001b[39;00m parser\n",
      "File \u001b[0;32m~/lib/miniconda3/lib/python3.9/site-packages/pandas/io/parsers/readers.py:932\u001b[0m, in \u001b[0;36mTextFileReader.__init__\u001b[0;34m(self, f, engine, **kwds)\u001b[0m\n\u001b[1;32m    929\u001b[0m     \u001b[38;5;28mself\u001b[39m\u001b[38;5;241m.\u001b[39moptions[\u001b[38;5;124m\"\u001b[39m\u001b[38;5;124mhas_index_names\u001b[39m\u001b[38;5;124m\"\u001b[39m] \u001b[38;5;241m=\u001b[39m kwds[\u001b[38;5;124m\"\u001b[39m\u001b[38;5;124mhas_index_names\u001b[39m\u001b[38;5;124m\"\u001b[39m]\n\u001b[1;32m    931\u001b[0m \u001b[38;5;28mself\u001b[39m\u001b[38;5;241m.\u001b[39mhandles: IOHandles \u001b[38;5;241m|\u001b[39m \u001b[38;5;28;01mNone\u001b[39;00m \u001b[38;5;241m=\u001b[39m \u001b[38;5;28;01mNone\u001b[39;00m\n\u001b[0;32m--> 932\u001b[0m \u001b[38;5;28mself\u001b[39m\u001b[38;5;241m.\u001b[39m_engine \u001b[38;5;241m=\u001b[39m \u001b[38;5;28;43mself\u001b[39;49m\u001b[38;5;241;43m.\u001b[39;49m\u001b[43m_make_engine\u001b[49m\u001b[43m(\u001b[49m\u001b[43mf\u001b[49m\u001b[43m,\u001b[49m\u001b[43m \u001b[49m\u001b[38;5;28;43mself\u001b[39;49m\u001b[38;5;241;43m.\u001b[39;49m\u001b[43mengine\u001b[49m\u001b[43m)\u001b[49m\n",
      "File \u001b[0;32m~/lib/miniconda3/lib/python3.9/site-packages/pandas/io/parsers/readers.py:1216\u001b[0m, in \u001b[0;36mTextFileReader._make_engine\u001b[0;34m(self, f, engine)\u001b[0m\n\u001b[1;32m   1212\u001b[0m     mode \u001b[38;5;241m=\u001b[39m \u001b[38;5;124m\"\u001b[39m\u001b[38;5;124mrb\u001b[39m\u001b[38;5;124m\"\u001b[39m\n\u001b[1;32m   1213\u001b[0m \u001b[38;5;66;03m# error: No overload variant of \"get_handle\" matches argument types\u001b[39;00m\n\u001b[1;32m   1214\u001b[0m \u001b[38;5;66;03m# \"Union[str, PathLike[str], ReadCsvBuffer[bytes], ReadCsvBuffer[str]]\"\u001b[39;00m\n\u001b[1;32m   1215\u001b[0m \u001b[38;5;66;03m# , \"str\", \"bool\", \"Any\", \"Any\", \"Any\", \"Any\", \"Any\"\u001b[39;00m\n\u001b[0;32m-> 1216\u001b[0m \u001b[38;5;28mself\u001b[39m\u001b[38;5;241m.\u001b[39mhandles \u001b[38;5;241m=\u001b[39m \u001b[43mget_handle\u001b[49m\u001b[43m(\u001b[49m\u001b[43m  \u001b[49m\u001b[38;5;66;43;03m# type: ignore[call-overload]\u001b[39;49;00m\n\u001b[1;32m   1217\u001b[0m \u001b[43m    \u001b[49m\u001b[43mf\u001b[49m\u001b[43m,\u001b[49m\n\u001b[1;32m   1218\u001b[0m \u001b[43m    \u001b[49m\u001b[43mmode\u001b[49m\u001b[43m,\u001b[49m\n\u001b[1;32m   1219\u001b[0m \u001b[43m    \u001b[49m\u001b[43mencoding\u001b[49m\u001b[38;5;241;43m=\u001b[39;49m\u001b[38;5;28;43mself\u001b[39;49m\u001b[38;5;241;43m.\u001b[39;49m\u001b[43moptions\u001b[49m\u001b[38;5;241;43m.\u001b[39;49m\u001b[43mget\u001b[49m\u001b[43m(\u001b[49m\u001b[38;5;124;43m\"\u001b[39;49m\u001b[38;5;124;43mencoding\u001b[39;49m\u001b[38;5;124;43m\"\u001b[39;49m\u001b[43m,\u001b[49m\u001b[43m \u001b[49m\u001b[38;5;28;43;01mNone\u001b[39;49;00m\u001b[43m)\u001b[49m\u001b[43m,\u001b[49m\n\u001b[1;32m   1220\u001b[0m \u001b[43m    \u001b[49m\u001b[43mcompression\u001b[49m\u001b[38;5;241;43m=\u001b[39;49m\u001b[38;5;28;43mself\u001b[39;49m\u001b[38;5;241;43m.\u001b[39;49m\u001b[43moptions\u001b[49m\u001b[38;5;241;43m.\u001b[39;49m\u001b[43mget\u001b[49m\u001b[43m(\u001b[49m\u001b[38;5;124;43m\"\u001b[39;49m\u001b[38;5;124;43mcompression\u001b[39;49m\u001b[38;5;124;43m\"\u001b[39;49m\u001b[43m,\u001b[49m\u001b[43m \u001b[49m\u001b[38;5;28;43;01mNone\u001b[39;49;00m\u001b[43m)\u001b[49m\u001b[43m,\u001b[49m\n\u001b[1;32m   1221\u001b[0m \u001b[43m    \u001b[49m\u001b[43mmemory_map\u001b[49m\u001b[38;5;241;43m=\u001b[39;49m\u001b[38;5;28;43mself\u001b[39;49m\u001b[38;5;241;43m.\u001b[39;49m\u001b[43moptions\u001b[49m\u001b[38;5;241;43m.\u001b[39;49m\u001b[43mget\u001b[49m\u001b[43m(\u001b[49m\u001b[38;5;124;43m\"\u001b[39;49m\u001b[38;5;124;43mmemory_map\u001b[39;49m\u001b[38;5;124;43m\"\u001b[39;49m\u001b[43m,\u001b[49m\u001b[43m \u001b[49m\u001b[38;5;28;43;01mFalse\u001b[39;49;00m\u001b[43m)\u001b[49m\u001b[43m,\u001b[49m\n\u001b[1;32m   1222\u001b[0m \u001b[43m    \u001b[49m\u001b[43mis_text\u001b[49m\u001b[38;5;241;43m=\u001b[39;49m\u001b[43mis_text\u001b[49m\u001b[43m,\u001b[49m\n\u001b[1;32m   1223\u001b[0m \u001b[43m    \u001b[49m\u001b[43merrors\u001b[49m\u001b[38;5;241;43m=\u001b[39;49m\u001b[38;5;28;43mself\u001b[39;49m\u001b[38;5;241;43m.\u001b[39;49m\u001b[43moptions\u001b[49m\u001b[38;5;241;43m.\u001b[39;49m\u001b[43mget\u001b[49m\u001b[43m(\u001b[49m\u001b[38;5;124;43m\"\u001b[39;49m\u001b[38;5;124;43mencoding_errors\u001b[39;49m\u001b[38;5;124;43m\"\u001b[39;49m\u001b[43m,\u001b[49m\u001b[43m \u001b[49m\u001b[38;5;124;43m\"\u001b[39;49m\u001b[38;5;124;43mstrict\u001b[39;49m\u001b[38;5;124;43m\"\u001b[39;49m\u001b[43m)\u001b[49m\u001b[43m,\u001b[49m\n\u001b[1;32m   1224\u001b[0m \u001b[43m    \u001b[49m\u001b[43mstorage_options\u001b[49m\u001b[38;5;241;43m=\u001b[39;49m\u001b[38;5;28;43mself\u001b[39;49m\u001b[38;5;241;43m.\u001b[39;49m\u001b[43moptions\u001b[49m\u001b[38;5;241;43m.\u001b[39;49m\u001b[43mget\u001b[49m\u001b[43m(\u001b[49m\u001b[38;5;124;43m\"\u001b[39;49m\u001b[38;5;124;43mstorage_options\u001b[39;49m\u001b[38;5;124;43m\"\u001b[39;49m\u001b[43m,\u001b[49m\u001b[43m \u001b[49m\u001b[38;5;28;43;01mNone\u001b[39;49;00m\u001b[43m)\u001b[49m\u001b[43m,\u001b[49m\n\u001b[1;32m   1225\u001b[0m \u001b[43m\u001b[49m\u001b[43m)\u001b[49m\n\u001b[1;32m   1226\u001b[0m \u001b[38;5;28;01massert\u001b[39;00m \u001b[38;5;28mself\u001b[39m\u001b[38;5;241m.\u001b[39mhandles \u001b[38;5;129;01mis\u001b[39;00m \u001b[38;5;129;01mnot\u001b[39;00m \u001b[38;5;28;01mNone\u001b[39;00m\n\u001b[1;32m   1227\u001b[0m f \u001b[38;5;241m=\u001b[39m \u001b[38;5;28mself\u001b[39m\u001b[38;5;241m.\u001b[39mhandles\u001b[38;5;241m.\u001b[39mhandle\n",
      "File \u001b[0;32m~/lib/miniconda3/lib/python3.9/site-packages/pandas/io/common.py:786\u001b[0m, in \u001b[0;36mget_handle\u001b[0;34m(path_or_buf, mode, encoding, compression, memory_map, is_text, errors, storage_options)\u001b[0m\n\u001b[1;32m    781\u001b[0m \u001b[38;5;28;01melif\u001b[39;00m \u001b[38;5;28misinstance\u001b[39m(handle, \u001b[38;5;28mstr\u001b[39m):\n\u001b[1;32m    782\u001b[0m     \u001b[38;5;66;03m# Check whether the filename is to be opened in binary mode.\u001b[39;00m\n\u001b[1;32m    783\u001b[0m     \u001b[38;5;66;03m# Binary mode does not support 'encoding' and 'newline'.\u001b[39;00m\n\u001b[1;32m    784\u001b[0m     \u001b[38;5;28;01mif\u001b[39;00m ioargs\u001b[38;5;241m.\u001b[39mencoding \u001b[38;5;129;01mand\u001b[39;00m \u001b[38;5;124m\"\u001b[39m\u001b[38;5;124mb\u001b[39m\u001b[38;5;124m\"\u001b[39m \u001b[38;5;129;01mnot\u001b[39;00m \u001b[38;5;129;01min\u001b[39;00m ioargs\u001b[38;5;241m.\u001b[39mmode:\n\u001b[1;32m    785\u001b[0m         \u001b[38;5;66;03m# Encoding\u001b[39;00m\n\u001b[0;32m--> 786\u001b[0m         handle \u001b[38;5;241m=\u001b[39m \u001b[38;5;28;43mopen\u001b[39;49m\u001b[43m(\u001b[49m\n\u001b[1;32m    787\u001b[0m \u001b[43m            \u001b[49m\u001b[43mhandle\u001b[49m\u001b[43m,\u001b[49m\n\u001b[1;32m    788\u001b[0m \u001b[43m            \u001b[49m\u001b[43mioargs\u001b[49m\u001b[38;5;241;43m.\u001b[39;49m\u001b[43mmode\u001b[49m\u001b[43m,\u001b[49m\n\u001b[1;32m    789\u001b[0m \u001b[43m            \u001b[49m\u001b[43mencoding\u001b[49m\u001b[38;5;241;43m=\u001b[39;49m\u001b[43mioargs\u001b[49m\u001b[38;5;241;43m.\u001b[39;49m\u001b[43mencoding\u001b[49m\u001b[43m,\u001b[49m\n\u001b[1;32m    790\u001b[0m \u001b[43m            \u001b[49m\u001b[43merrors\u001b[49m\u001b[38;5;241;43m=\u001b[39;49m\u001b[43merrors\u001b[49m\u001b[43m,\u001b[49m\n\u001b[1;32m    791\u001b[0m \u001b[43m            \u001b[49m\u001b[43mnewline\u001b[49m\u001b[38;5;241;43m=\u001b[39;49m\u001b[38;5;124;43m\"\u001b[39;49m\u001b[38;5;124;43m\"\u001b[39;49m\u001b[43m,\u001b[49m\n\u001b[1;32m    792\u001b[0m \u001b[43m        \u001b[49m\u001b[43m)\u001b[49m\n\u001b[1;32m    793\u001b[0m     \u001b[38;5;28;01melse\u001b[39;00m:\n\u001b[1;32m    794\u001b[0m         \u001b[38;5;66;03m# Binary mode\u001b[39;00m\n\u001b[1;32m    795\u001b[0m         handle \u001b[38;5;241m=\u001b[39m \u001b[38;5;28mopen\u001b[39m(handle, ioargs\u001b[38;5;241m.\u001b[39mmode)\n",
      "\u001b[0;31mFileNotFoundError\u001b[0m: [Errno 2] No such file or directory: '../../data/input/hive-metrics-2.0.0.csv'"
     ]
    }
   ],
   "source": [
    "for version in RELEASED_VERSIONS:\n",
    "    df = pd.read_csv(INPUT_DIR + f\"hive-metrics-{version}.csv\")\n",
    "    df = df.loc[df[\"Kind\"] == \"File\"][metrics_cols]\n",
    "    df.insert(1, \"Version\", version)\n",
    "    df.to_csv(OUTPUT_DIR + f\"hive-files-metrics-{version}.csv\", index=False)\n",
    "    "
   ]
  },
  {
   "cell_type": "markdown",
   "metadata": {},
   "source": [
    "We can now concatenate all the generated files above, to have the unlabeled dataset."
   ]
  },
  {
   "cell_type": "code",
   "execution_count": null,
   "metadata": {},
   "outputs": [],
   "source": [
    "versions_data = []\n",
    "\n",
    "for version in RELEASED_VERSIONS:\n",
    "    df = pd.read_csv(OUTPUT_DIR + f\"hive-files-metrics-{version}.csv\")\n",
    "    versions_data.append(df)\n",
    "\n",
    "unlabeled_data = pd.concat(versions_data, ignore_index=True)\n",
    "unlabeled_data = unlabeled_data.rename(columns={\"Name\": \"File\"})\n",
    "unlabeled_data.to_csv(OUTPUT_DIR + f\"hive-unlabeled-data.csv\", index=False)\n",
    "unlabeled_data"
   ]
  },
  {
   "cell_type": "markdown",
   "metadata": {},
   "source": [
    "### Adding Filetypes "
   ]
  },
  {
   "cell_type": "markdown",
   "metadata": {},
   "source": [
    "Let:\n",
    "- all files with the *.h* extention be labeled as **headers** files,\n",
    "- all files with the *.cpp* extention be labeled as **cpp** files, and\n",
    "- the remaining files are considered **java** files but won't be assigned a dummy variable to avoid a colinear relationships between the 3 variables."
   ]
  },
  {
   "cell_type": "code",
   "execution_count": null,
   "metadata": {},
   "outputs": [],
   "source": [
    "unlabeled_data[\"IsHeader\"] = unlabeled_data[\"File\"].str.endswith(\".h\")\n",
    "unlabeled_data[\"IsCpp\"]  = unlabeled_data[\"File\"].str.endswith(\".cpp\")"
   ]
  },
  {
   "cell_type": "markdown",
   "metadata": {},
   "source": [
    "### Data labelling"
   ]
  },
  {
   "cell_type": "markdown",
   "metadata": {},
   "source": [
    "We load labels"
   ]
  },
  {
   "cell_type": "code",
   "execution_count": null,
   "metadata": {},
   "outputs": [],
   "source": [
    "labels = pd.read_csv(OUTPUT_DIR + \"hive-bugs-files.csv\")\n",
    "labels.head()"
   ]
  },
  {
   "cell_type": "code",
   "execution_count": null,
   "metadata": {},
   "outputs": [],
   "source": [
    "labels.shape"
   ]
  },
  {
   "cell_type": "markdown",
   "metadata": {},
   "source": [
    "Let us add `Bug` column and set its value to 1 for all file/version in labels dataset"
   ]
  },
  {
   "cell_type": "code",
   "execution_count": null,
   "metadata": {},
   "outputs": [],
   "source": [
    "labels[\"Bug\"] = 1"
   ]
  },
  {
   "cell_type": "markdown",
   "metadata": {},
   "source": [
    "Merge unlabeled data to labels"
   ]
  },
  {
   "cell_type": "code",
   "execution_count": null,
   "metadata": {},
   "outputs": [],
   "source": [
    "dataset = pd.merge(left=unlabeled_data, right=labels, on=[\"File\", \"Version\"], how=\"left\")\n",
    "dataset"
   ]
  },
  {
   "cell_type": "markdown",
   "metadata": {},
   "source": [
    "Remove duplicated data"
   ]
  },
  {
   "cell_type": "code",
   "execution_count": null,
   "metadata": {},
   "outputs": [],
   "source": [
    "dataset.drop_duplicates(keep=\"first\", inplace=True)\n",
    "dataset.shape"
   ]
  },
  {
   "cell_type": "markdown",
   "metadata": {},
   "source": [
    "Remove unnecessary columns"
   ]
  },
  {
   "cell_type": "code",
   "execution_count": null,
   "metadata": {},
   "outputs": [],
   "source": [
    "dataset.drop(columns=[\"IssueId\", \"CommitId\", \"File\", \"Version\"], inplace=True)\n",
    "dataset[\"Bug\"] = dataset[\"Bug\"].fillna(0).astype(int)\n"
   ]
  },
  {
   "cell_type": "code",
   "execution_count": null,
   "metadata": {},
   "outputs": [],
   "source": [
    "dataset.to_csv(OUTPUT_DIR + \"dataset.csv\", index=False)\n",
    "dataset"
   ]
  },
  {
   "cell_type": "markdown",
   "metadata": {},
   "source": [
    "### Reload data"
   ]
  },
  {
   "cell_type": "code",
   "execution_count": null,
   "metadata": {
    "scrolled": true
   },
   "outputs": [],
   "source": [
    "dataset = pd.read_csv(OUTPUT_DIR + \"dataset.csv\")\n",
    "dataset"
   ]
  },
  {
   "cell_type": "code",
   "execution_count": null,
   "metadata": {},
   "outputs": [],
   "source": [
    "dataset.describe()"
   ]
  },
  {
   "cell_type": "code",
   "execution_count": null,
   "metadata": {},
   "outputs": [],
   "source": [
    "sns.countplot(dataset, x=\"Bug\")"
   ]
  },
  {
   "cell_type": "code",
   "execution_count": null,
   "metadata": {},
   "outputs": [],
   "source": [
    "dataset.to_csv(OUTPUT_DIR + \"dataset.csv\", index=False)"
   ]
  },
  {
   "cell_type": "markdown",
   "metadata": {},
   "source": [
    "# Preprocess data"
   ]
  },
  {
   "cell_type": "markdown",
   "metadata": {},
   "source": [
    "### Correlation Matrix of Raw Data"
   ]
  },
  {
   "cell_type": "code",
   "execution_count": null,
   "metadata": {},
   "outputs": [],
   "source": [
    "sns.heatmap(dataset.corr())"
   ]
  },
  {
   "cell_type": "markdown",
   "metadata": {},
   "source": [
    "The heatmap above shows a highs correlations between most of the metrics. We will need to generate uncorrelated features highlighting attributes of interest from these metrics."
   ]
  },
  {
   "cell_type": "markdown",
   "metadata": {},
   "source": [
    "### Feature Generation"
   ]
  },
  {
   "cell_type": "markdown",
   "metadata": {},
   "source": [
    "#### Generating Relative Metrics"
   ]
  },
  {
   "cell_type": "code",
   "execution_count": null,
   "metadata": {},
   "outputs": [],
   "source": [
    "dataset['AvgCyclomaticModifiedRatio'] = dataset['AvgCyclomaticModified'] / dataset['AvgCyclomatic']\n",
    "dataset['AvgCyclomaticStrictRatio'] = dataset['AvgCyclomaticStrict'] / dataset['AvgCyclomatic']\n",
    "\n",
    "dataset['AvgLineBlankRatio'] = dataset['AvgLineBlank'] / dataset['AvgLine']\n",
    "dataset['AvgLineCodeRatio'] = dataset['AvgLineCode'] / dataset['AvgLine']\n",
    "dataset['AvgLineCommentRatio'] = dataset['AvgLineComment'] / dataset['AvgLine']\n",
    "\n",
    "dataset['CountDeclClassMethodRatio'] = dataset['CountDeclClassMethod'] / dataset['CountDeclClass']\n",
    "dataset['CountDeclClassVariableRatio'] = dataset['CountDeclClassVariable'] / dataset['CountDeclClass']\n",
    "\n",
    "dataset['CountDeclMethodDefaultRatio'] = dataset['CountDeclMethodDefault'] / dataset['CountDeclMethod']\n",
    "dataset['CountDeclMethodPrivateRatio'] = dataset['CountDeclMethodPrivate'] / dataset['CountDeclMethod']\n",
    "dataset['CountDeclMethodProtectedRatio'] = dataset['CountDeclMethodProtected'] / dataset['CountDeclMethod']\n",
    "dataset['CountDeclMethodPublicRatio'] = dataset['CountDeclMethodPublic'] / dataset['CountDeclMethod']\n",
    "\n",
    "dataset['CountLineBlankRatio'] = dataset['CountLineBlank'] / dataset['CountLine']\n",
    "dataset['CountLineCodeRatio'] = dataset['CountLineCode'] / dataset['CountLine']\n",
    "dataset['CountLineCodeDeclRatio'] = dataset['CountLineCodeDecl'] / dataset['CountLine']\n",
    "dataset['CountLineCodeExeRatio'] = dataset['CountLineCodeExe'] / dataset['CountLine']\n",
    "dataset['CountLineCommentRatio'] = dataset['CountLineComment'] / dataset['CountLine']\n",
    "dataset['CountSemicolonRatio'] = dataset['CountSemicolon'] / dataset['CountLine']\n",
    "\n",
    "dataset['CountStmtDeclRatio'] = dataset['CountStmtDecl'] / dataset['CountStmt']\n",
    "dataset['CountStmtExeRatio'] = dataset['CountStmtExe'] / dataset['CountStmt']\n",
    "\n",
    "dataset['MaxCyclomaticModifiedRatio'] = dataset['MaxCyclomaticModified'] / dataset['MaxCyclomatic']\n",
    "dataset['MaxCyclomaticStrictRatio'] = dataset['MaxCyclomaticStrict'] / dataset['MaxCyclomatic']\n",
    "\n",
    "dataset['SumCyclomaticModifiedRatio'] = dataset['SumCyclomaticModified'] / dataset['SumCyclomatic']\n",
    "dataset['SumCyclomaticStrictRatio'] = dataset['SumCyclomaticStrict'] / dataset['SumCyclomatic']\n",
    "\n",
    "preprocessed_data = dataset[\n",
    "\n",
    "    ['AvgCyclomatic', 'AvgCyclomaticModifiedRatio', 'AvgCyclomaticStrictRatio', 'AvgEssential', \n",
    "     'AvgLine', 'AvgLineBlankRatio', 'AvgLineCodeRatio', 'AvgLineCommentRatio', 'CountDeclClass', \n",
    "     'CountDeclClassMethodRatio', 'CountDeclClassVariable', 'CountDeclFunction', 'CountDeclInstanceMethod', \n",
    "     'CountDeclInstanceVariable','CountDeclMethod', 'CountDeclMethodDefaultRatio', 'CountDeclMethodPrivateRatio', \n",
    "     'CountDeclMethodProtectedRatio', 'CountDeclMethodPublicRatio', 'CountLine', 'CountLineBlankRatio',\n",
    "     'CountLineCodeRatio', 'CountLineCodeDeclRatio', 'CountLineCodeExeRatio', 'CountLineCommentRatio',\n",
    "     'CountSemicolonRatio', 'CountStmt', 'CountStmtDeclRatio', 'CountStmtExeRatio', 'MaxCyclomatic',\n",
    "     'MaxCyclomaticModifiedRatio', 'MaxCyclomaticStrictRatio', 'RatioCommentToCode', 'SumCyclomatic',\n",
    "     'SumCyclomaticModifiedRatio', 'SumCyclomaticStrictRatio', 'SumEssential', 'IsHeader', 'IsCpp', 'Bug']]"
   ]
  },
  {
   "cell_type": "markdown",
   "metadata": {},
   "source": [
    "### Correlation Matrix"
   ]
  },
  {
   "cell_type": "code",
   "execution_count": null,
   "metadata": {
    "scrolled": true
   },
   "outputs": [],
   "source": [
    "sns.heatmap(preprocessed_data.corr())"
   ]
  },
  {
   "cell_type": "markdown",
   "metadata": {},
   "source": [
    "### Retained Uncorrelated Dataset"
   ]
  },
  {
   "cell_type": "code",
   "execution_count": null,
   "metadata": {
    "scrolled": true
   },
   "outputs": [],
   "source": [
    "preprocessed_data = dataset[\n",
    "    ['AvgCyclomatic', 'AvgCyclomaticModifiedRatio', 'AvgCyclomaticStrictRatio', 'AvgEssential', \n",
    "     'AvgLineBlankRatio', 'AvgLineCommentRatio', 'CountDeclClass', 'CountDeclMethodDefaultRatio', \n",
    "     'CountDeclMethodPrivateRatio', 'CountDeclMethodProtectedRatio', 'CountDeclMethodPublicRatio', \n",
    "     'CountLineBlankRatio', 'MaxCyclomaticStrictRatio', 'RatioCommentToCode', 'IsHeader', 'IsCpp', 'Bug']]"
   ]
  },
  {
   "cell_type": "code",
   "execution_count": null,
   "metadata": {},
   "outputs": [],
   "source": [
    "preprocessed_data.corr().to_csv(\"../../../corr.csv\")"
   ]
  },
  {
   "cell_type": "code",
   "execution_count": null,
   "metadata": {},
   "outputs": [],
   "source": []
  }
 ],
 "metadata": {
  "kernelspec": {
   "display_name": "Python 3 (ipykernel)",
   "language": "python",
   "name": "python3"
  },
  "language_info": {
   "codemirror_mode": {
    "name": "ipython",
    "version": 3
   },
   "file_extension": ".py",
   "mimetype": "text/x-python",
   "name": "python",
   "nbconvert_exporter": "python",
   "pygments_lexer": "ipython3",
   "version": "3.9.7"
  },
  "vscode": {
   "interpreter": {
    "hash": "c1359abf3155d6e10783b7c6bc5c5f02995ef9432b18bfb569b7bfcad1fd7f5e"
   }
  }
 },
 "nbformat": 4,
 "nbformat_minor": 2
}
